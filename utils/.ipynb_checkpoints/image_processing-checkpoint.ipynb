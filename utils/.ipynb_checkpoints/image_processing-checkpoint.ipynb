{
 "cells": [
  {
   "cell_type": "code",
   "execution_count": 3,
   "metadata": {},
   "outputs": [],
   "source": [
    "import numpy\n",
    "import matplotlib.pyplot as plt\n",
    "import cv2"
   ]
  },
  {
   "cell_type": "code",
   "execution_count": 14,
   "metadata": {},
   "outputs": [],
   "source": [
    "def plot_images(images, nrows=1, ncols=1, figsize=(8,8)):\n",
    "    fig,axes =plt.subplots(nrows=nrows, ncols=ncols, figsize= figsize)\n",
    "    \n",
    "    axes=axes.flatten()\n",
    "    \n",
    "    for img_name, ax in zip(images,axes):\n",
    "        ax.imshow(cv2.cvtColor(images[img_name], cv2.COLOR_BGR2RGB))\n",
    "        ax.set_title(img_name)\n",
    "        ax.set_axis_off()\n",
    "        \n",
    "        \n",
    "def img_path(PATH,img):\n",
    "    return PATH+\"/images/\"+img\n",
    "\n",
    "def load_image(PATH,img):\n",
    "    return cv2.imread(PATH+\"/images/\"+img)"
   ]
  },
  {
   "cell_type": "code",
   "execution_count": null,
   "metadata": {},
   "outputs": [],
   "source": []
  }
 ],
 "metadata": {
  "kernelspec": {
   "display_name": "Python 3",
   "language": "python",
   "name": "python3"
  },
  "language_info": {
   "codemirror_mode": {
    "name": "ipython",
    "version": 3
   },
   "file_extension": ".py",
   "mimetype": "text/x-python",
   "name": "python",
   "nbconvert_exporter": "python",
   "pygments_lexer": "ipython3",
   "version": "3.6.10"
  }
 },
 "nbformat": 4,
 "nbformat_minor": 4
}
